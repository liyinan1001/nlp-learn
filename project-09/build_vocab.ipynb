{
 "cells": [
  {
   "cell_type": "code",
   "execution_count": 65,
   "metadata": {},
   "outputs": [],
   "source": [
    "import json\n",
    "squad_file = open('./SQuaAD2.0/dev-v2.0.json')\n",
    "du_file = open('./dureader-processed/devset/search.dev.json')"
   ]
  },
  {
   "cell_type": "code",
   "execution_count": 66,
   "metadata": {},
   "outputs": [],
   "source": [
    "import collections\n",
    "import string\n",
    "\n",
    "def build_vocab(tokens):\n",
    "    dic = collections.Counter(tokens)\n",
    "    vocab = list(sorted(dic.items(), key=lambda p : p[1], reverse=True))\n",
    "    return vocab\n",
    "\n",
    "def save_vocab(save_path, vocab):\n",
    "    with open(save_path, 'w', encoding='utf-8') as f:\n",
    "        for line in vocab:\n",
    "            w, i = line\n",
    "            f.write(\"%s\\t%d\\n\" % (w, i))\n",
    "            \n",
    "def remove_punc(s):\n",
    "    return s\n",
    "    #return s.translate(str.maketrans('', '', string.punctuation))\n",
    "            \n",
    "def extract_tokens_squad(squad_file):\n",
    "    squad_data = json.load(squad_file)\n",
    "    context_tokens = []\n",
    "    for d in squad_data['data']:\n",
    "        for p in d['paragraphs']:\n",
    "            context = p['context']\n",
    "            context_tokens += remove_punc(context).split(' ')\n",
    "    return context_tokens       \n",
    "\n",
    "def extract_tokens_dureader(du_file):\n",
    "    document_tokens = []\n",
    "    for line in du_file:\n",
    "        line_data = json.loads(line)\n",
    "        for document in line_data['documents']:\n",
    "            for paragraph in document['segmented_paragraphs']:\n",
    "                document_tokens += paragraph\n",
    "    return document_tokens"
   ]
  },
  {
   "cell_type": "code",
   "execution_count": 67,
   "metadata": {},
   "outputs": [],
   "source": [
    "squad_vocab = build_vocab(extract_tokens_squad(squad_file))"
   ]
  },
  {
   "cell_type": "code",
   "execution_count": 68,
   "metadata": {},
   "outputs": [
    {
     "data": {
      "text/plain": [
       "[('the', 10589),\n",
       " ('of', 6214),\n",
       " ('and', 4611),\n",
       " ('in', 3522),\n",
       " ('to', 3303),\n",
       " ('a', 2698),\n",
       " ('is', 1620),\n",
       " ('as', 1372),\n",
       " ('that', 1370),\n",
       " ('The', 1340)]"
      ]
     },
     "execution_count": 68,
     "metadata": {},
     "output_type": "execute_result"
    }
   ],
   "source": [
    "squad_vocab[:10]"
   ]
  },
  {
   "cell_type": "code",
   "execution_count": 69,
   "metadata": {},
   "outputs": [],
   "source": [
    "du_vocab = build_vocab(extract_tokens_dureader(du_file))"
   ]
  },
  {
   "cell_type": "code",
   "execution_count": 70,
   "metadata": {},
   "outputs": [
    {
     "data": {
      "text/plain": [
       "[(',', 639397),\n",
       " ('的', 427451),\n",
       " ('。', 254978),\n",
       " ('、', 144589),\n",
       " (':', 112607),\n",
       " ('.', 98341),\n",
       " ('是', 91198),\n",
       " ('了', 73859),\n",
       " ('在', 73855),\n",
       " ('-', 70890)]"
      ]
     },
     "execution_count": 70,
     "metadata": {},
     "output_type": "execute_result"
    }
   ],
   "source": [
    "du_vocab[:10]"
   ]
  },
  {
   "cell_type": "code",
   "execution_count": 71,
   "metadata": {},
   "outputs": [],
   "source": [
    "vocab_path_squad = 'squad.vocab'\n",
    "vocab_path_du = 'du.vocab'\n",
    "save_vocab(vocab_path_squad, squad_vocab)\n",
    "save_vocab(vocab_path_du, du_vocab)\n"
   ]
  }
 ],
 "metadata": {
  "kernelspec": {
   "display_name": "Python 3",
   "language": "python",
   "name": "python3"
  },
  "language_info": {
   "codemirror_mode": {
    "name": "ipython",
    "version": 3
   },
   "file_extension": ".py",
   "mimetype": "text/x-python",
   "name": "python",
   "nbconvert_exporter": "python",
   "pygments_lexer": "ipython3",
   "version": "3.8.3"
  }
 },
 "nbformat": 4,
 "nbformat_minor": 4
}
