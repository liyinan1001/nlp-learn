{
 "cells": [
  {
   "cell_type": "code",
   "execution_count": 3,
   "metadata": {},
   "outputs": [],
   "source": [
    "import json\n",
    "from gensim.models import Word2Vec\n",
    "from gensim.models.word2vec import LineSentence\n",
    "from gensim.models.keyedvectors import KeyedVectors\n",
    "import os\n",
    "\n"
   ]
  },
  {
   "cell_type": "code",
   "execution_count": 7,
   "metadata": {},
   "outputs": [],
   "source": [
    "def dump_pkl(vocab, pkl_path, overwrite=True):\n",
    "    \"\"\"\n",
    "    存储文件\n",
    "    :param pkl_path:\n",
    "    :param overwrite:\n",
    "    :return:\n",
    "    \"\"\"\n",
    "    if pkl_path and os.path.exists(pkl_path) and not overwrite:\n",
    "        return\n",
    "    if pkl_path:\n",
    "        with open(pkl_path, 'wb') as f:\n",
    "            pickle.dump(vocab, f, protocol=pickle.HIGHEST_PROTOCOL)\n",
    "            # pickle.dump(vocab, f, protocol=0)\n",
    "        print(\"save %s ok.\" % pkl_path)\n",
    "\n",
    "def remove_punc(s):\n",
    "    return s\n",
    "    #return s.translate(str.maketrans('', '', string.punctuation))\n",
    "\n",
    "def extract_sentences_squad(squad_file):\n",
    "    squad_data = json.load(squad_file)\n",
    "    context_sentences = []\n",
    "    for d in squad_data['data']:\n",
    "        for p in d['paragraphs']:\n",
    "            context = p['context']\n",
    "            context_sentences.append(remove_punc(context).split(' '))\n",
    "    return context_sentences       \n",
    "\n",
    "def extract_sentences_dureader(du_file):\n",
    "    document_sentences = []\n",
    "    for line in du_file:\n",
    "        line_data = json.loads(line)\n",
    "        for document in line_data['documents']:\n",
    "            for paragraph in document['segmented_paragraphs']:\n",
    "                document_sentences.append(paragraph)\n",
    "    return document_sentences\n",
    "\n",
    "def build_w2v(sentences, w2v_bin_path):  # one sentence is a list of tokens\n",
    "    print('train w2v model...')\n",
    "    w2v = Word2Vec([sentence for sentence in sentences], size=256, window=5, sg=1)\n",
    "    w2v.wv.save_word2vec_format(w2v_bin_path, binary=True)\n",
    "    print(\"save %s ok.\" % w2v_bin_path)\n",
    "    #sim = w2v.wv.similarity('技师', '车主')\n",
    "   # print(sim)\n",
    "    # load model\n",
    "#     model = KeyedVectors.load_word2vec_format(w2v_bin_path, binary=True)\n",
    "#     word_dict = {}\n",
    "#     for word in model.vocab:\n",
    "#         word_dict[word] = model[word]\n",
    "#     dump_pkl(word_dict, out_path, overwrite=True)"
   ]
  },
  {
   "cell_type": "code",
   "execution_count": 8,
   "metadata": {},
   "outputs": [
    {
     "name": "stdout",
     "output_type": "stream",
     "text": [
      "train w2v model...\n",
      "save squad_w2v.bin ok.\n",
      "train w2v model...\n",
      "save du_w2v.bin ok.\n"
     ]
    }
   ],
   "source": [
    "squad_file = open('./SQuaAD2.0/dev-v2.0.json')\n",
    "du_file = open('./dureader-processed/devset/search.dev.json')\n",
    "\n",
    "squad_sentences = extract_sentences_squad(squad_file)\n",
    "du_sentences = extract_sentences_dureader(du_file)\n",
    "build_w2v(squad_sentences, 'squad_w2v.bin')\n",
    "build_w2v(du_sentences, 'du_w2v.bin')\n"
   ]
  }
 ],
 "metadata": {
  "kernelspec": {
   "display_name": "Python 3",
   "language": "python",
   "name": "python3"
  },
  "language_info": {
   "codemirror_mode": {
    "name": "ipython",
    "version": 3
   },
   "file_extension": ".py",
   "mimetype": "text/x-python",
   "name": "python",
   "nbconvert_exporter": "python",
   "pygments_lexer": "ipython3",
   "version": "3.8.3"
  }
 },
 "nbformat": 4,
 "nbformat_minor": 4
}
